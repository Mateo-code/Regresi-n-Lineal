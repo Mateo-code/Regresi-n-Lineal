{
 "cells": [
  {
   "cell_type": "code",
   "execution_count": 1,
   "id": "309b80ff-d92e-4cc6-9c57-5b195b7c759d",
   "metadata": {},
   "outputs": [
    {
     "name": "stdout",
     "output_type": "stream",
     "text": [
      "Primeras filas del dataset:\n",
      "            Make                            Model    Price  Year  Kilometer  \\\n",
      "0          Honda              Amaze 1.2 VX i-VTEC   505000  2017      87150   \n",
      "1  Maruti Suzuki                  Swift DZire VDI   450000  2014      75000   \n",
      "2        Hyundai             i10 Magna 1.2 Kappa2   220000  2011      67000   \n",
      "3         Toyota                         Glanza G   799000  2019      37500   \n",
      "4         Toyota  Innova 2.4 VX 7 STR [2016-2020]  1950000  2018      69000   \n",
      "\n",
      "  Fuel Type Transmission   Location   Color   Owner Seller Type   Engine  \\\n",
      "0    Petrol       Manual       Pune    Grey   First   Corporate  1198 cc   \n",
      "1    Diesel       Manual   Ludhiana   White  Second  Individual  1248 cc   \n",
      "2    Petrol       Manual    Lucknow  Maroon   First  Individual  1197 cc   \n",
      "3    Petrol       Manual  Mangalore     Red   First  Individual  1197 cc   \n",
      "4    Diesel       Manual     Mumbai    Grey   First  Individual  2393 cc   \n",
      "\n",
      "            Max Power              Max Torque Drivetrain  Length   Width  \\\n",
      "0   87 bhp @ 6000 rpm       109 Nm @ 4500 rpm        FWD  3990.0  1680.0   \n",
      "1   74 bhp @ 4000 rpm       190 Nm @ 2000 rpm        FWD  3995.0  1695.0   \n",
      "2   79 bhp @ 6000 rpm  112.7619 Nm @ 4000 rpm        FWD  3585.0  1595.0   \n",
      "3   82 bhp @ 6000 rpm       113 Nm @ 4200 rpm        FWD  3995.0  1745.0   \n",
      "4  148 bhp @ 3400 rpm       343 Nm @ 1400 rpm        RWD  4735.0  1830.0   \n",
      "\n",
      "   Height  Seating Capacity  Fuel Tank Capacity  \n",
      "0  1505.0               5.0                35.0  \n",
      "1  1555.0               5.0                42.0  \n",
      "2  1550.0               5.0                35.0  \n",
      "3  1510.0               5.0                37.0  \n",
      "4  1795.0               7.0                55.0  \n",
      "\n",
      "Información del dataset:\n",
      "<class 'pandas.core.frame.DataFrame'>\n",
      "RangeIndex: 2059 entries, 0 to 2058\n",
      "Data columns (total 20 columns):\n",
      " #   Column              Non-Null Count  Dtype  \n",
      "---  ------              --------------  -----  \n",
      " 0   Make                2059 non-null   object \n",
      " 1   Model               2059 non-null   object \n",
      " 2   Price               2059 non-null   int64  \n",
      " 3   Year                2059 non-null   int64  \n",
      " 4   Kilometer           2059 non-null   int64  \n",
      " 5   Fuel Type           2059 non-null   object \n",
      " 6   Transmission        2059 non-null   object \n",
      " 7   Location            2059 non-null   object \n",
      " 8   Color               2059 non-null   object \n",
      " 9   Owner               2059 non-null   object \n",
      " 10  Seller Type         2059 non-null   object \n",
      " 11  Engine              1979 non-null   object \n",
      " 12  Max Power           1979 non-null   object \n",
      " 13  Max Torque          1979 non-null   object \n",
      " 14  Drivetrain          1923 non-null   object \n",
      " 15  Length              1995 non-null   float64\n",
      " 16  Width               1995 non-null   float64\n",
      " 17  Height              1995 non-null   float64\n",
      " 18  Seating Capacity    1995 non-null   float64\n",
      " 19  Fuel Tank Capacity  1946 non-null   float64\n",
      "dtypes: float64(5), int64(3), object(12)\n",
      "memory usage: 321.8+ KB\n",
      "None\n",
      "\n",
      "Valores nulos por columna:\n",
      "Make                    0\n",
      "Model                   0\n",
      "Price                   0\n",
      "Year                    0\n",
      "Kilometer               0\n",
      "Fuel Type               0\n",
      "Transmission            0\n",
      "Location                0\n",
      "Color                   0\n",
      "Owner                   0\n",
      "Seller Type             0\n",
      "Engine                 80\n",
      "Max Power              80\n",
      "Max Torque             80\n",
      "Drivetrain            136\n",
      "Length                 64\n",
      "Width                  64\n",
      "Height                 64\n",
      "Seating Capacity       64\n",
      "Fuel Tank Capacity    113\n",
      "dtype: int64\n",
      "\n",
      "Resumen estadístico:\n",
      "              Price         Year     Kilometer       Length        Width  \\\n",
      "count  2.059000e+03  2059.000000  2.059000e+03  1995.000000  1995.000000   \n",
      "mean   1.702992e+06  2016.425449  5.422471e+04  4280.860652  1767.991980   \n",
      "std    2.419881e+06     3.363564  5.736172e+04   442.458507   135.265825   \n",
      "min    4.900000e+04  1988.000000  0.000000e+00  3099.000000  1475.000000   \n",
      "25%    4.849990e+05  2014.000000  2.900000e+04  3985.000000  1695.000000   \n",
      "50%    8.250000e+05  2017.000000  5.000000e+04  4370.000000  1770.000000   \n",
      "75%    1.925000e+06  2019.000000  7.200000e+04  4629.000000  1831.500000   \n",
      "max    3.500000e+07  2022.000000  2.000000e+06  5569.000000  2220.000000   \n",
      "\n",
      "            Height  Seating Capacity  Fuel Tank Capacity  \n",
      "count  1995.000000       1995.000000         1946.000000  \n",
      "mean   1591.735338          5.306266           52.002210  \n",
      "std     136.073956          0.822170           15.110198  \n",
      "min    1165.000000          2.000000           15.000000  \n",
      "25%    1485.000000          5.000000           41.250000  \n",
      "50%    1545.000000          5.000000           50.000000  \n",
      "75%    1675.000000          5.000000           60.000000  \n",
      "max    1995.000000          8.000000          105.000000  \n",
      "\n",
      "Valores únicos por columna categórica:\n",
      "Make: ['Honda' 'Maruti Suzuki' 'Hyundai' 'Toyota' 'Mercedes-Benz' 'BMW' 'Skoda'\n",
      " 'Nissan' 'Renault' 'Tata' 'Volkswagen' 'Ford' 'Audi' 'Mahindra' 'MG'\n",
      " 'Jeep' 'Porsche' 'Kia' 'Land Rover' 'Volvo' 'Maserati' 'Jaguar' 'Isuzu'\n",
      " 'Fiat' 'MINI' 'Ferrari' 'Mitsubishi' 'Datsun' 'Lamborghini' 'Chevrolet'\n",
      " 'Ssangyong' 'Rolls-Royce' 'Lexus']\n",
      "Model: ['Amaze 1.2 VX i-VTEC' 'Swift DZire VDI' 'i10 Magna 1.2 Kappa2' ...\n",
      " 'Ritz Vxi (ABS) BS-IV' 'XUV500 W8 [2015-2017]'\n",
      " 'Figo Duratec Petrol ZXI 1.2']\n",
      "Fuel Type: ['Petrol' 'Diesel' 'CNG' 'LPG' 'Electric' 'CNG + CNG' 'Hybrid'\n",
      " 'Petrol + CNG' 'Petrol + LPG']\n",
      "Transmission: ['Manual' 'Automatic']\n",
      "Location: ['Pune' 'Ludhiana' 'Lucknow' 'Mangalore' 'Mumbai' 'Coimbatore' 'Bangalore'\n",
      " 'Delhi' 'Raipur' 'Kanpur' 'Patna' 'Vadodara' 'Hyderabad' 'Yamunanagar'\n",
      " 'Gurgaon' 'Jaipur' 'Deoghar' 'Agra' 'Goa' 'Warangal' 'Jalandhar' 'Noida'\n",
      " 'Ahmedabad' 'Mohali' 'Navi Mumbai' 'Ghaziabad' 'Kolkata' 'Zirakpur'\n",
      " 'Nagpur' 'Thane' 'Faridabad' 'Ranchi' 'Chandigarh' 'Amritsar' 'Chennai'\n",
      " 'Udupi' 'Panvel' 'Jamshedpur' 'Aurangabad' 'Rudrapur' 'Nashik' 'Varanasi'\n",
      " 'Salem' 'Dehradun' 'Valsad' 'Haldwani' 'Dharwad' 'Surat' 'Indore'\n",
      " 'Karnal' 'Panchkula' 'Mysore' 'Rohtak' 'Ambala Cantt' 'Samastipur'\n",
      " 'Unnao' 'Purnea' 'Bhubaneswar' 'Kheda' 'Kollam' 'Meerut' 'Ernakulam'\n",
      " 'Kharar' 'Mirzapur' 'Bhopal' 'Gorakhpur' 'Guwahati' 'Allahabad'\n",
      " 'Muzaffurpur' 'Faizabad' 'Kota' 'Pimpri-Chinchwad' 'Dak. Kannada'\n",
      " 'Ranga Reddy' 'Bulandshahar' 'Roorkee' 'Siliguri']\n",
      "Color: ['Grey' 'White' 'Maroon' 'Red' 'Blue' 'Orange' 'Silver' 'Brown' 'Black'\n",
      " 'Bronze' 'Gold' 'Beige' 'Green' 'Yellow' 'Purple' 'Others' 'Pink']\n",
      "Owner: ['First' 'Second' 'Third' 'Fourth' 'UnRegistered Car' '4 or More']\n",
      "Seller Type: ['Corporate' 'Individual' 'Commercial Registration']\n",
      "Drivetrain: ['FWD' 'RWD' 'AWD' nan]\n"
     ]
    }
   ],
   "source": [
    "import pandas as pd\n",
    "import numpy as np\n",
    "\n",
    "file_path = \"C:/Users/Mateo/Desktop/UNAD/SEMESTRE II/ANÁLISIS DE DATOS/Tarea 3/Anexo 2 - Dataset Vehicle/car details v4.csv\"  \n",
    "data = pd.read_csv(file_path)\n",
    "\n",
    "print(\"Primeras filas del dataset:\")\n",
    "print(data.head())\n",
    "\n",
    "print(\"\\nInformación del dataset:\")\n",
    "print(data.info())\n",
    "\n",
    "print(\"\\nValores nulos por columna:\")\n",
    "print(data.isnull().sum())\n",
    "\n",
    "print(\"\\nResumen estadístico:\")\n",
    "print(data.describe())\n",
    "\n",
    "print(\"\\nValores únicos por columna categórica:\")\n",
    "for col in ['Make', 'Model', 'Fuel Type', 'Transmission', 'Location', 'Color', 'Owner', 'Seller Type', 'Drivetrain']:\n",
    "    print(f\"{col}: {data[col].unique()}\")"
   ]
  },
  {
   "cell_type": "code",
   "execution_count": 43,
   "id": "bb1765e9-2036-41a8-85e4-dbd4a96ad9b0",
   "metadata": {},
   "outputs": [
    {
     "name": "stdout",
     "output_type": "stream",
     "text": [
      "Error cuadrático medio (MSE): 2381071189408.342\n",
      "R-cuadrado (R2): 0.6591790705072114\n"
     ]
    }
   ],
   "source": [
    "from sklearn.model_selection import train_test_split\n",
    "from sklearn.linear_model import LinearRegression\n",
    "from sklearn.metrics import mean_squared_error, r2_score\n",
    "from sklearn.impute import SimpleImputer\n",
    "\n",
    "X = data.drop(['Price', 'Model'], axis=1)\n",
    "y = data['Price']\n",
    "\n",
    "imputer = SimpleImputer(strategy='mean')\n",
    "X = pd.DataFrame(imputer.fit_transform(X), columns=X.columns)\n",
    "\n",
    "X_train, X_test, y_train, y_test = train_test_split(X, y, test_size=0.2, random_state=42)\n",
    "\n",
    "model = LinearRegression()\n",
    "model.fit(X_train, y_train)\n",
    "\n",
    "y_pred = model.predict(X_test)\n",
    "\n",
    "mse = mean_squared_error(y_test, y_pred)\n",
    "r2 = r2_score(y_test, y_pred)\n",
    "\n",
    "print(\"Error cuadrático medio (MSE):\", mse)\n",
    "print(\"R-cuadrado (R2):\", r2)\n"
   ]
  },
  {
   "cell_type": "code",
   "execution_count": 22,
   "id": "bd1be53b-5f03-4a59-8bed-ceb46231acbe",
   "metadata": {},
   "outputs": [
    {
     "name": "stdout",
     "output_type": "stream",
     "text": [
      "Error cuadrático medio (MSE) tras escalado: 6.001153213810476e+36\n",
      "R-cuadrado (R2) tras escalado: -8.589909556075689e+23\n"
     ]
    }
   ],
   "source": [
    "from sklearn.preprocessing import StandardScaler\n",
    "\n",
    "scaler = StandardScaler()\n",
    "X_scaled = scaler.fit_transform(X)\n",
    "\n",
    "X_train, X_test, y_train, y_test = train_test_split(X_scaled, y, test_size=0.2, random_state=42)\n",
    "\n",
    "model = LinearRegression()\n",
    "model.fit(X_train, y_train)\n",
    "\n",
    "y_pred = model.predict(X_test)\n",
    "mse = mean_squared_error(y_test, y_pred)\n",
    "r2 = r2_score(y_test, y_pred)\n",
    "\n",
    "print(\"Error cuadrático medio (MSE) tras escalado:\", mse)\n",
    "print(\"R-cuadrado (R2) tras escalado:\", r2)\n",
    "\n"
   ]
  },
  {
   "cell_type": "code",
   "execution_count": 34,
   "id": "f08e292a-6e53-4447-b13b-6dbb9e6c8d7d",
   "metadata": {},
   "outputs": [
    {
     "name": "stdout",
     "output_type": "stream",
     "text": [
      "Error cuadrático medio (MSE) tras eliminación de outliers y escalado: 1.7566413005355343e+37\n",
      "R-cuadrado (R2) tras eliminación de outliers y escalado: -8.522850611657974e+24\n"
     ]
    }
   ],
   "source": [
    "def remove_outliers(df, columns):\n",
    "    for col in columns:\n",
    "        lower_bound = df[col].quantile(0.01)\n",
    "        upper_bound = df[col].quantile(0.99)\n",
    "        df = df[(df[col] >= lower_bound) & (df[col] <= upper_bound)]\n",
    "    return df\n",
    "\n",
    "data_no_outliers = remove_outliers(data, ['Price', 'Kilometer', 'Engine', 'Max Power', 'Max Torque'])\n",
    "\n",
    "X = data_no_outliers.drop(['Price', 'Model'], axis=1)\n",
    "y = data_no_outliers['Price']\n",
    "\n",
    "scaler = StandardScaler()\n",
    "X_scaled = scaler.fit_transform(X)\n",
    "\n",
    "X_train, X_test, y_train, y_test = train_test_split(X_scaled, y, test_size=0.2, random_state=42)\n",
    "\n",
    "model = LinearRegression()\n",
    "model.fit(X_train, y_train)\n",
    "\n",
    "y_pred = model.predict(X_test)\n",
    "mse = mean_squared_error(y_test, y_pred)\n",
    "r2 = r2_score(y_test, y_pred)\n",
    "\n",
    "print(\"Error cuadrático medio (MSE) tras eliminación de outliers y escalado:\", mse)\n",
    "print(\"R-cuadrado (R2) tras eliminación de outliers y escalado:\", r2)\n"
   ]
  },
  {
   "cell_type": "code",
   "execution_count": 32,
   "id": "a72e463a-4d06-4972-859d-58488e82d6a0",
   "metadata": {},
   "outputs": [
    {
     "name": "stdout",
     "output_type": "stream",
     "text": [
      "Error cuadrático medio (MSE) con RANSAC: 1281910102157.4978\n",
      "R-cuadrado (R2) con RANSAC: 0.37804443656580433\n"
     ]
    }
   ],
   "source": [
    "from sklearn.linear_model import RANSACRegressor\n",
    "\n",
    "X_reduced = data_no_outliers[['Year', 'Kilometer', 'Engine', 'Max Power', 'Seating Capacity', 'Fuel Tank Capacity']]\n",
    "y = data_no_outliers['Price']\n",
    "\n",
    "X_scaled = scaler.fit_transform(X_reduced)\n",
    "\n",
    "X_train, X_test, y_train, y_test = train_test_split(X_scaled, y, test_size=0.2, random_state=42)\n",
    "\n",
    "ransac = RANSACRegressor(LinearRegression(), random_state=42)\n",
    "ransac.fit(X_train, y_train)\n",
    "\n",
    "y_pred = ransac.predict(X_test)\n",
    "mse = mean_squared_error(y_test, y_pred)\n",
    "r2 = r2_score(y_test, y_pred)\n",
    "\n",
    "print(\"Error cuadrático medio (MSE) con RANSAC:\", mse)\n",
    "print(\"R-cuadrado (R2) con RANSAC:\", r2)\n"
   ]
  },
  {
   "cell_type": "code",
   "execution_count": 30,
   "id": "fb8d58a6-56d1-4641-86ac-29c92c65263b",
   "metadata": {},
   "outputs": [
    {
     "data": {
      "image/png": "[encoded data removed]",
      "text/plain": [
       "<Figure size 1000x600 with 1 Axes>"
      ]
     },
     "metadata": {},
     "output_type": "display_data"
    }
   ],
   "source": [
    "import matplotlib.pyplot as plt\n",
    "\n",
    "plt.figure(figsize=(10, 6))\n",
    "plt.scatter(y_test, y_pred, alpha=0.5)\n",
    "plt.plot([y_test.min(), y_test.max()], [y_test.min(), y_test.max()], 'r--')  \n",
    "plt.xlabel(\"Precio Real\")\n",
    "plt.ylabel(\"Precio Predicho\")\n",
    "plt.title(\"Comparación de Precio Real vs. Precio Predicho\")\n",
    "plt.show()\n"
   ]
  },
  {
   "cell_type": "code",
   "execution_count": null,
   "id": "aa6767b6-9e80-4e5b-bed5-24876240f179",
   "metadata": {},
   "outputs": [],
   "source": []
  }
 ],
 "metadata": {
  "kernelspec": {
   "display_name": "Python 3 (ipykernel)",
   "language": "python",
   "name": "python3"
  },
  "language_info": {
   "codemirror_mode": {
    "name": "ipython",
    "version": 3
   },
   "file_extension": ".py",
   "mimetype": "text/x-python",
   "name": "python",
   "nbconvert_exporter": "python",
   "pygments_lexer": "ipython3",
   "version": "3.12.7"
  }
 },
 "nbformat": 4,
 "nbformat_minor": 5
}
